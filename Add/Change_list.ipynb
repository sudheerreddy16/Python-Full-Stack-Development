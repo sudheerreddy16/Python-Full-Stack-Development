{
  "nbformat": 4,
  "nbformat_minor": 0,
  "metadata": {
    "colab": {
      "name": "Untitled6.ipynb",
      "provenance": [],
      "collapsed_sections": [],
      "authorship_tag": "ABX9TyOkThN0FKjS8Cm58jdpF1bb",
      "include_colab_link": true
    },
    "kernelspec": {
      "name": "python3",
      "display_name": "Python 3"
    },
    "language_info": {
      "name": "python"
    }
  },
  "cells": [
    {
      "cell_type": "markdown",
      "metadata": {
        "id": "view-in-github",
        "colab_type": "text"
      },
      "source": [
        "<a href=\"https://colab.research.google.com/github/sudheerreddy16/Python-Full-Stack-Development/blob/main/Add/Change_list.ipynb\" target=\"_parent\"><img src=\"https://colab.research.google.com/assets/colab-badge.svg\" alt=\"Open In Colab\"/></a>"
      ]
    },
    {
      "cell_type": "code",
      "execution_count": 2,
      "metadata": {
        "id": "bmmBvL7tyaD8"
      },
      "outputs": [],
      "source": [
        "#Appending and Extending List\n",
        "odd=[1,3,5]"
      ]
    },
    {
      "cell_type": "code",
      "source": [
        "odd.append(7)\n",
        "print(odd)"
      ],
      "metadata": {
        "colab": {
          "base_uri": "https://localhost:8080/"
        },
        "id": "CWy8CNR0yyBs",
        "outputId": "fd21aeac-6cbc-475c-9595-33f436b4d8da"
      },
      "execution_count": 4,
      "outputs": [
        {
          "output_type": "stream",
          "name": "stdout",
          "text": [
            "[1, 3, 5, 7, 7]\n"
          ]
        }
      ]
    },
    {
      "cell_type": "code",
      "source": [
        "odd.extend([9.11,13])\n",
        "print(odd)"
      ],
      "metadata": {
        "colab": {
          "base_uri": "https://localhost:8080/"
        },
        "id": "KaLCycmxzDJC",
        "outputId": "6fe41bfa-d11a-4512-944e-dd2173c921fa"
      },
      "execution_count": 5,
      "outputs": [
        {
          "output_type": "stream",
          "name": "stdout",
          "text": [
            "[1, 3, 5, 7, 7, 9.11, 13]\n"
          ]
        }
      ]
    },
    {
      "cell_type": "code",
      "source": [
        "#Concatinating and repeating lists\n",
        "odd=[1,3,5]\n",
        "print(odd+[9,7,5])"
      ],
      "metadata": {
        "colab": {
          "base_uri": "https://localhost:8080/"
        },
        "id": "aoT3UqpszRu6",
        "outputId": "cde24f98-ff0e-4c6d-dd5e-a6a9804ae0e1"
      },
      "execution_count": 6,
      "outputs": [
        {
          "output_type": "stream",
          "name": "stdout",
          "text": [
            "[1, 3, 5, 9, 7, 5]\n"
          ]
        }
      ]
    },
    {
      "cell_type": "code",
      "source": [
        "print([\"re\"]*3)"
      ],
      "metadata": {
        "colab": {
          "base_uri": "https://localhost:8080/"
        },
        "id": "QM_JT3Hjzulw",
        "outputId": "12300e5b-2246-4151-d0ee-921dbbe12bca"
      },
      "execution_count": 7,
      "outputs": [
        {
          "output_type": "stream",
          "name": "stdout",
          "text": [
            "['re', 're', 're']\n"
          ]
        }
      ]
    },
    {
      "cell_type": "code",
      "source": [
        "#Insertion\n",
        "odd=[1,9]\n",
        "odd.insert(1,3)\n",
        "print(odd)\n",
        "\n",
        "\n",
        "odd[2:2]=[5,7]\n",
        "print(odd)"
      ],
      "metadata": {
        "colab": {
          "base_uri": "https://localhost:8080/"
        },
        "id": "859ntQGZ0EXT",
        "outputId": "71826a7b-444e-4ec4-df93-afa706092ea1"
      },
      "execution_count": 12,
      "outputs": [
        {
          "output_type": "stream",
          "name": "stdout",
          "text": [
            "[1, 3, 9]\n",
            "[1, 3, 5, 7, 9]\n"
          ]
        }
      ]
    }
  ]
}