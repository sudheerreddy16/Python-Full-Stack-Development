{
  "nbformat": 4,
  "nbformat_minor": 0,
  "metadata": {
    "colab": {
      "name": "Untitled5.ipynb",
      "provenance": [],
      "authorship_tag": "ABX9TyOEKb8tBQgjvG+srnINXvRb",
      "include_colab_link": true
    },
    "kernelspec": {
      "name": "python3",
      "display_name": "Python 3"
    },
    "language_info": {
      "name": "python"
    }
  },
  "cells": [
    {
      "cell_type": "markdown",
      "metadata": {
        "id": "view-in-github",
        "colab_type": "text"
      },
      "source": [
        "<a href=\"https://colab.research.google.com/github/sudheerreddy16/Python-Full-Stack-Development/blob/main/Changing_list.ipynb\" target=\"_parent\"><img src=\"https://colab.research.google.com/assets/colab-badge.svg\" alt=\"Open In Colab\"/></a>"
      ]
    },
    {
      "cell_type": "code",
      "execution_count": 1,
      "metadata": {
        "id": "Vv_2cxl2xDC8"
      },
      "outputs": [],
      "source": [
        "odd=[2,4,6,8]"
      ]
    },
    {
      "cell_type": "code",
      "source": [
        "odd[0]=1\n",
        "print(odd)"
      ],
      "metadata": {
        "colab": {
          "base_uri": "https://localhost:8080/"
        },
        "id": "oUQpnAImxMvI",
        "outputId": "3ea75c7c-1b4e-4b19-d7bb-8730bb0b7e5f"
      },
      "execution_count": 2,
      "outputs": [
        {
          "output_type": "stream",
          "name": "stdout",
          "text": [
            "[1, 4, 6, 8]\n"
          ]
        }
      ]
    },
    {
      "cell_type": "code",
      "source": [
        "odd[1:4]=[3,5,7]\n",
        "print(odd)"
      ],
      "metadata": {
        "colab": {
          "base_uri": "https://localhost:8080/"
        },
        "id": "xYUBqom6xZ1x",
        "outputId": "ac0e46e4-cb33-4461-a615-bf9538b9076e"
      },
      "execution_count": 3,
      "outputs": [
        {
          "output_type": "stream",
          "name": "stdout",
          "text": [
            "[1, 3, 5, 7]\n"
          ]
        }
      ]
    }
  ]
}